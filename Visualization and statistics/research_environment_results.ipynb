{
 "cells": [
  {
   "cell_type": "code",
   "execution_count": null,
   "metadata": {},
   "outputs": [],
   "source": [
    "import pandas as pd\n",
    "from sklearn.metrics import roc_curve, roc_auc_score\n",
    "import matplotlib.pyplot as plt\n",
    "from scipy.stats import chisquare"
   ]
  },
  {
   "cell_type": "code",
   "execution_count": null,
   "metadata": {},
   "outputs": [],
   "source": [
    "#Font sizes for figures \n",
    "label_fontsize = 15\n",
    "title_fontsize = 17\n",
    "tick_size=13"
   ]
  },
  {
   "cell_type": "code",
   "execution_count": null,
   "metadata": {},
   "outputs": [],
   "source": [
    "\n",
    "etm_df = pd.read_csv('H:/data/Results/ETM_resultater_redcap.csv')\n",
    "etm_df = etm_df.loc[etm_df['voxel_ktrans'] > 0]\n",
    "etm_df = etm_df[['record_id', 'average_ktrans', 'average_ve', 'average_vp', 'average_kep', 'voxel_ktrans', 'voxel_ve', 'voxel_vp', 'voxel_kep', 'mask', 'average_tumor_volume']]\n",
    "etm_df['record_id'] = etm_df['record_id'].str.lstrip('GYN ')\n",
    "etm_df['record_id'] = etm_df['record_id'].str.lstrip('0')\n",
    "avrg_kt_array = (etm_df['average_ktrans'].to_numpy())*60\n",
    "voxel_kt_array = (etm_df['voxel_ktrans'].to_numpy())*60\n",
    "tumor_vol = etm_df['average_tumor_volume'].to_numpy()\n",
    "avrg_kep_array = (etm_df['average_kep'].to_numpy())*60\n",
    "avrg_ve_array = etm_df['average_ve'].to_numpy()\n",
    "avrg_vp_array = etm_df['average_vp'].to_numpy()\n",
    "voxel_kep_array = (etm_df['voxel_kep'].to_numpy())*60\n",
    "voxel_ve_array = etm_df['voxel_ve'].to_numpy()\n",
    "voxel_vp_array = etm_df['voxel_vp'].to_numpy()\n",
    "etm_df = etm_df.astype(str)\n",
    "etm_df"
   ]
  },
  {
   "cell_type": "code",
   "execution_count": null,
   "metadata": {},
   "outputs": [],
   "source": [
    "#Kolmogorov-Smirnov to test if the data is normally distributed \n",
    "ks_result = kstest(avrg_kt_array, cdf = 'norm')\n",
    "if ks_result[1] > 0.05: #t-test if the data is normally distributed \n",
    "    print(f\"K-S statistic: {ks_result[0]}\")\n",
    "    print(f\"p-value: {ks_result[1]}\")\n",
    "    t_test = stats.ttest_rel(avrg_kt_array, voxel_kt_array)\n",
    "    print(t_test)\n",
    "else: \n",
    "    print('Data is not normally distributed')\n",
    "    print(f\"K-S statistic: {ks_result[0]}\")\n",
    "    print(f\"p-value: {ks_result[1]}\")\n",
    "    #mann_whitney = mannwhitneyu(np.array(Kt_avrg), np.array(Kt_voxel))\n",
    "    #print(mann_whitney)\n",
    "    res  = wilcoxon(avrg_kt_array, voxel_kt_array)\n",
    "    print('Wilcoxon p-value:', res.pvalue)\n",
    "    print('Wilcoxon z-statistic:', res.statistic)"
   ]
  },
  {
   "cell_type": "code",
   "execution_count": null,
   "metadata": {},
   "outputs": [],
   "source": [
    "#Pearson correlation \n",
    "pearson = stats.pearsonr(avrg_kt_array, voxel_kt_array)\n",
    "print(pearson)\n",
    "\n",
    "#Spearman correlation \n",
    "spearman = spearmanr(avrg_kt_array, voxel_kt_array)\n",
    "print(spearman)"
   ]
  },
  {
   "cell_type": "code",
   "execution_count": null,
   "metadata": {},
   "outputs": [],
   "source": [
    "print(np.median(avrg_kt_array))\n",
    "print(np.median(voxel_kt_array))"
   ]
  },
  {
   "cell_type": "code",
   "execution_count": null,
   "metadata": {},
   "outputs": [],
   "source": [
    "\n",
    "#Plot Kt difference vs. tumor volume\n",
    "diff = abs(avrg_kt_array-voxel_kt_array)\n",
    "fig = plt.figure()\n",
    "plt.rcParams.update({'font.family':'Times New Roman'})\n",
    "plt.scatter(tumor_vol, diff, color='tab:blue')\n",
    "plt.xticks(size=tick_size)\n",
    "plt.yticks(size=tick_size)\n",
    "plt.xlabel('Tumor volume [ml]', size=label_fontsize)\n",
    "plt.ylabel('Absolute difference $[min^{-1}]$', size=label_fontsize)\n",
    "plt.title('$K^{trans}$ difference vs. tumor volume', size=title_fontsize)\n",
    "#plt.ylim(0,0.05)\n",
    "plt.grid()\n",
    "fig.savefig('H:/data/Results/rPACS/ktrans_vs_tumorvol_rPACS.eps', bbox_inches='tight')"
   ]
  },
  {
   "cell_type": "code",
   "execution_count": null,
   "metadata": {},
   "outputs": [],
   "source": [
    "#kt Bland-Altman plot\n",
    "fig = plt.figure()\n",
    "bland_altman_plot(avrg_kt_array, voxel_kt_array, 1.11)\n",
    "plt.xticks(size=tick_size)\n",
    "plt.yticks(size=tick_size)\n",
    "plt.title('Bland-Altman plot', size=17)\n",
    "fig.savefig('H:/data/Results/rPACS/Bland_altman_rPACS.eps', bbox_inches='tight')"
   ]
  },
  {
   "cell_type": "code",
   "execution_count": null,
   "metadata": {},
   "outputs": [],
   "source": [
    "#Clinical patient data \n",
    "hist_df_og = pd.read_csv('H:/data/master endometrial data/patients.csv')\n",
    "hist_df = hist_df_og[['Subj', 'TimeFollowUp', 'StatusFollowUp', 'HistGrade2G']]\n",
    "hist_df = hist_df.dropna()\n",
    "hist_df.rename(columns = {'Subj':'record_id'}, inplace = True)\n",
    "hist_df = hist_df.astype(str)\n"
   ]
  },
  {
   "cell_type": "code",
   "execution_count": null,
   "metadata": {},
   "outputs": [],
   "source": [
    "#Average modeling results \n",
    "result_df = pd.merge(etm_df, hist_df, how='inner', on='record_id')\n",
    "result_Kt = ((result_df['average_ktrans'].astype(float)).to_numpy())*60\n",
    "result_kep = ((result_df['average_kep'].astype(float)).to_numpy())*60\n",
    "result_vp = ((result_df['average_vp'].astype(float)).to_numpy())\n",
    "result_ve = ((result_df['average_ve'].astype(float)).to_numpy())\n",
    "histgrade = ((result_df['HistGrade2G'].astype(float)).to_numpy())"
   ]
  },
  {
   "cell_type": "code",
   "execution_count": null,
   "metadata": {},
   "outputs": [],
   "source": [
    "#Voxelwise modeling results \n",
    "result_Kt = ((result_df['voxel_ktrans'].astype(float)).to_numpy())*60\n",
    "result_kep = ((result_df['voxel_kep'].astype(float)).to_numpy())*60\n",
    "result_vp = ((result_df['voxel_vp'].astype(float)).to_numpy())\n",
    "result_ve = ((result_df['voxel_ve'].astype(float)).to_numpy())\n",
    "print(result_vp)"
   ]
  },
  {
   "cell_type": "code",
   "execution_count": null,
   "metadata": {},
   "outputs": [],
   "source": [
    "#Split Ktrans by median \n",
    "median = np.median(result_Kt)\n",
    "\n",
    "observed_kt = []\n",
    "for i in result_Kt: \n",
    "    if i < median: \n",
    "        observed_kt.append(1)\n",
    "    elif i > median: \n",
    "        observed_kt.append(0)"
   ]
  },
  {
   "cell_type": "code",
   "execution_count": null,
   "metadata": {},
   "outputs": [],
   "source": [
    "expected_lower = observed_kt.count(0) #Denne verdien er 30\n",
    "observed_lower =  histgrade.size - np.count_nonzero(histgrade==1) #Denne verdien er 40\n",
    "\n",
    "expected_upper = observed_kt.count(1) #Denne verdien er 30\n",
    "observed_upper = np.count_nonzero(histgrade == 1) #Denne verdien er 20\n",
    "\n",
    "#Chi-square test\n",
    "chisquare_res = chisquare([[observed_lower,observed_upper], [expected_lower, expected_upper]]) # chisquare([[40,20], [30,30]])\n",
    "print(chisquare_res)"
   ]
  },
  {
   "cell_type": "code",
   "execution_count": null,
   "metadata": {},
   "outputs": [],
   "source": [
    "#Plot ROC curve \n",
    "fpr, tpr, _ = roc_curve(histgrade, result_Kt)\n",
    "auc_score = roc_auc_score(histgrade, result_Kt)\n",
    "print(fpr)\n",
    "print(tpr)\n",
    "print(auc_score)\n",
    "plt.rcParams['font.family'] = 'Times New Roman'\n",
    "\n",
    "label_fontsize = 15\n",
    "title_fontsize = 17\n",
    "tick_size=13\n",
    "\n",
    "plt.plot(fpr, tpr, 'tab:blue', label = 'AUC = 0.536' )\n",
    "plt.plot([0, 1], [0, 1], \"k--\")\n",
    "plt.legend(fontsize=label_fontsize)\n",
    "plt.xticks(size=tick_size)\n",
    "plt.yticks(size=tick_size)\n",
    "plt.ylabel('True Positive Rate', size=label_fontsize)\n",
    "plt.xlabel('False Positive Rate', size=label_fontsize)\n",
    "plt.title('$K^{trans}$ vs. histologic tumor grade', size=title_fontsize)\n",
    "plt.savefig('H:/data/Results/ROC_kt_histgrade.eps', bbox_inches = 'tight')\n",
    "plt.show()"
   ]
  },
  {
   "cell_type": "code",
   "execution_count": null,
   "metadata": {},
   "outputs": [],
   "source": [
    "#Split by high-risk and low-risk tumor grade \n",
    "high_grade = result_df.loc[result_df['HistGrade2G'] == '1']\n",
    "low_grade = result_df.loc[result_df['HistGrade2G'] == '0']"
   ]
  }
 ],
 "metadata": {
  "language_info": {
   "name": "python"
  },
  "orig_nbformat": 4
 },
 "nbformat": 4,
 "nbformat_minor": 2
}
