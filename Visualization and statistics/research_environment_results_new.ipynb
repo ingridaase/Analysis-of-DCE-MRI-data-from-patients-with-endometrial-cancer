{
 "cells": [
  {
   "cell_type": "code",
   "execution_count": 28,
   "metadata": {},
   "outputs": [],
   "source": [
    "import pandas as pd\n",
    "import numpy as np\n",
    "from sklearn.metrics import roc_curve, roc_auc_score\n",
    "import matplotlib.pyplot as plt\n",
    "from scipy.stats import chisquare\n",
    "import scipy.stats as st\n",
    "from scipy.stats import kstest, mannwhitneyu, wilcoxon, chisquare, spearmanr, pearsonr"
   ]
  },
  {
   "cell_type": "code",
   "execution_count": 18,
   "metadata": {},
   "outputs": [],
   "source": [
    "#Font sizes for figures \n",
    "label_fontsize = 15\n",
    "title_fontsize = 17\n",
    "tick_size=13"
   ]
  },
  {
   "cell_type": "code",
   "execution_count": 26,
   "metadata": {},
   "outputs": [],
   "source": [
    "#source code: https://rowannicholls.github.io/python/statistics/agreement/bland_altman.html\n",
    "def bland_altman_plot(data1, data2, right_coord): \n",
    "    x = np.asarray(data1)\n",
    "    y = np.asarray(data2)\n",
    "    means = (x + y) / 2\n",
    "    diffs = x - y\n",
    "    \n",
    "    # Average difference (aka the bias)\n",
    "    bias = np.mean(diffs)\n",
    "    bias_percent = (diffs)/(means) * 100\n",
    "    print('Bias percent:', np.mean(bias_percent))\n",
    "    # Sample standard deviation\n",
    "    s = np.std(diffs, ddof=1)  # Use ddof=1 to get the sample standard deviation\n",
    "    \n",
    "    # Limits of agreement (LOAs)\n",
    "    upper_loa = bias + 1.96 * s\n",
    "    lower_loa = bias - 1.96 * s\n",
    "    \n",
    "    # Confidence level\n",
    "    C = 0.95  # 95%\n",
    "    # Significance level, α\n",
    "    alpha = 1 - C\n",
    "    # Number of tails\n",
    "    tails = 2\n",
    "    # Quantile (the cumulative probability)\n",
    "    q = 1 - (alpha / tails)\n",
    "    # Critical z-score, calculated using the percent-point function (aka the\n",
    "    # quantile function) of the normal distribution\n",
    "    z_star = st.norm.ppf(q)\n",
    "\n",
    "    #print(f'95% of normally distributed data lies within {z_star} σ of the mean')\n",
    "    \n",
    "    # Limits of agreement (LOAs)\n",
    "    loas = (bias - z_star * s, bias + z_star * s)\n",
    "    #print(f'The limits of agreement are {loas} L/min')\n",
    "    \n",
    "    # Limits of agreement (LOAs)\n",
    "    loas = st.norm.interval(C, bias, s)\n",
    "    \n",
    "    # Create plot\n",
    "    ax = plt.axes()\n",
    "    plt.rcParams['font.family'] = 'Times New Roman'\n",
    "    ax.scatter(means, diffs)\n",
    "    # Plot the zero line\n",
    "    ax.axhline(y=0, c='grey', lw=0.5)\n",
    "    # Plot the bias and the limits of agreement\n",
    "    ax.axhline(y=loas[1], c='grey', ls='--')\n",
    "    ax.axhline(y=bias, c='grey', ls='--')\n",
    "    ax.axhline(y=loas[0], c='grey', ls='--')\n",
    "    # Labels\n",
    "    #ax.set_title('Bland-Altman Plot', size=17)\n",
    "    ax.set_xlabel('Mean [$min^{-1}$]', size=14)\n",
    "    ax.set_ylabel('Difference [$min^{-1}$]', size=14)\n",
    "    # Get axis limits\n",
    "    left, right = ax.get_xlim()\n",
    "    bottom, top = ax.get_ylim()\n",
    "    # Set y-axis limits\n",
    "    max_y = max(abs(bottom), abs(top))\n",
    "    ax.set_ylim(-max_y * 1.1, max_y * 1.1)\n",
    "    # Set x-axis limits\n",
    "    domain = right - left\n",
    "    ax.set_xlim(left, left + domain * 1.1)\n",
    "    \n",
    "    # Annotations\n",
    "    ax.annotate('+LoA', (right_coord, upper_loa), (0, 5), textcoords='offset points', annotation_clip = False, fontsize=13)\n",
    "    ax.annotate(f'{upper_loa:+0.4f}', (right_coord, upper_loa), (0, -10), textcoords='offset points', annotation_clip = False, fontsize=13)\n",
    "    ax.annotate('Bias', (right_coord, bias), (0, 5), textcoords='offset pixels', annotation_clip = False, fontsize=13)\n",
    "    ax.annotate(f'{bias:+0.4f}', (right_coord, bias), (0, -10), textcoords='offset points', annotation_clip = False, fontsize=13)\n",
    "    ax.annotate('-LoA', (right_coord, lower_loa), (0, 5), textcoords='offset points', annotation_clip = False, fontsize=13)\n",
    "    ax.annotate(f'{lower_loa:+0.4f}', (right_coord, lower_loa), (0, -10), textcoords='offset points', annotation_clip = False, fontsize=13)"
   ]
  },
  {
   "cell_type": "code",
   "execution_count": 4,
   "metadata": {},
   "outputs": [],
   "source": [
    "#Load model parameters from ETM \n",
    "etm_df = pd.read_csv('H:/data/Results/ETM_resultater_redcap.csv')\n",
    "etm_df = etm_df.loc[etm_df['voxel_ktrans'] > 0]\n",
    "etm_df = etm_df[['record_id', 'average_ktrans', 'average_ve', 'average_vp', 'average_kep', 'voxel_ktrans', 'voxel_ve', 'voxel_vp', 'voxel_kep', 'mask', 'average_tumor_volume']]\n",
    "etm_df['record_id'] = etm_df['record_id'].str.lstrip('GYN ')\n",
    "etm_df['record_id'] = etm_df['record_id'].str.lstrip('0')\n",
    "avrg_kt_array = (etm_df['average_ktrans'].to_numpy())*60\n",
    "voxel_kt_array = (etm_df['voxel_ktrans'].to_numpy())*60\n",
    "tumor_vol = etm_df['average_tumor_volume'].to_numpy()\n",
    "avrg_kep_array = (etm_df['average_kep'].to_numpy())*60\n",
    "avrg_ve_array = etm_df['average_ve'].to_numpy()\n",
    "avrg_vp_array = etm_df['average_vp'].to_numpy()\n",
    "voxel_kep_array = (etm_df['voxel_kep'].to_numpy())*60\n",
    "voxel_ve_array = etm_df['voxel_ve'].to_numpy()\n",
    "voxel_vp_array = etm_df['voxel_vp'].to_numpy()\n",
    "etm_df = etm_df.astype(str)"
   ]
  },
  {
   "cell_type": "code",
   "execution_count": 7,
   "metadata": {},
   "outputs": [
    {
     "name": "stdout",
     "output_type": "stream",
     "text": [
      "Data is not normally distributed\n",
      "K-S statistic: 0.510289123476975\n",
      "p-value: 9.676774567718755e-16\n",
      "Wilcoxon p-value: 1.6296951775896109e-07\n",
      "Wilcoxon z-statistic: 243.0\n"
     ]
    }
   ],
   "source": [
    "#Kolmogorov-Smirnov to test if the data is normally distributed \n",
    "ks_result = kstest(avrg_kt_array, cdf = 'norm')\n",
    "if ks_result[1] > 0.05: #t-test if the data is normally distributed \n",
    "    print(f\"K-S statistic: {ks_result[0]}\")\n",
    "    print(f\"p-value: {ks_result[1]}\")\n",
    "    t_test = stats.ttest_rel(avrg_kt_array, voxel_kt_array)\n",
    "    print(t_test)\n",
    "else: \n",
    "    print('Data is not normally distributed')\n",
    "    print(f\"K-S statistic: {ks_result[0]}\")\n",
    "    print(f\"p-value: {ks_result[1]}\")\n",
    "    #mann_whitney = mannwhitneyu(np.array(Kt_avrg), np.array(Kt_voxel))\n",
    "    #print(mann_whitney)\n",
    "    res  = wilcoxon(avrg_kt_array, voxel_kt_array)\n",
    "    print('Wilcoxon p-value:', res.pvalue)\n",
    "    print('Wilcoxon z-statistic:', res.statistic)"
   ]
  },
  {
   "cell_type": "code",
   "execution_count": 11,
   "metadata": {},
   "outputs": [
    {
     "name": "stdout",
     "output_type": "stream",
     "text": [
      "PearsonRResult(statistic=0.9887100998576797, pvalue=5.317975783236416e-52)\n",
      "SpearmanrResult(correlation=0.9722062211981566, pvalue=3.5957180307972326e-40)\n"
     ]
    }
   ],
   "source": [
    "#Pearson correlation \n",
    "pearson = pearsonr(avrg_kt_array, voxel_kt_array)\n",
    "print(pearson)\n",
    "\n",
    "#Spearman correlation \n",
    "spearman = spearmanr(avrg_kt_array, voxel_kt_array)\n",
    "print(spearman)"
   ]
  },
  {
   "cell_type": "code",
   "execution_count": 12,
   "metadata": {},
   "outputs": [
    {
     "name": "stdout",
     "output_type": "stream",
     "text": [
      "0.16303876554396599\n",
      "0.170609254288266\n"
     ]
    }
   ],
   "source": [
    "print(np.median(avrg_kt_array))\n",
    "print(np.median(voxel_kt_array))"
   ]
  },
  {
   "cell_type": "code",
   "execution_count": 13,
   "metadata": {},
   "outputs": [
    {
     "data": {
      "image/png": "[encoded data removed]",
      "text/plain": [
       "<Figure size 432x288 with 1 Axes>"
      ]
     },
     "metadata": {
      "needs_background": "light"
     },
     "output_type": "display_data"
    }
   ],
   "source": [
    "#Plot Kt difference vs. tumor volume\n",
    "diff = abs(avrg_kt_array-voxel_kt_array)\n",
    "fig = plt.figure()\n",
    "plt.rcParams.update({'font.family':'Times New Roman'})\n",
    "plt.scatter(tumor_vol, diff, color='tab:blue')\n",
    "plt.xticks(size=tick_size)\n",
    "plt.yticks(size=tick_size)\n",
    "plt.xlabel('Tumor volume [ml]', size=label_fontsize)\n",
    "plt.ylabel('Absolute difference $[min^{-1}]$', size=label_fontsize)\n",
    "plt.title('$K^{trans}$ difference vs. tumor volume', size=title_fontsize)\n",
    "#plt.ylim(0,0.05)\n",
    "plt.grid()\n",
    "fig.savefig('H:/data/Results/rPACS/ktrans_vs_tumorvol_rPACS.eps', bbox_inches='tight')"
   ]
  },
  {
   "cell_type": "code",
   "execution_count": 29,
   "metadata": {},
   "outputs": [
    {
     "name": "stdout",
     "output_type": "stream",
     "text": [
      "Bias percent: -7.001524434342786\n"
     ]
    },
    {
     "data": {
      "image/png": "[encoded data removed]",
      "text/plain": [
       "<Figure size 432x288 with 1 Axes>"
      ]
     },
     "metadata": {
      "needs_background": "light"
     },
     "output_type": "display_data"
    }
   ],
   "source": [
    "#kt Bland-Altman plot\n",
    "fig = plt.figure()\n",
    "bland_altman_plot(avrg_kt_array, voxel_kt_array, 1.11)\n",
    "plt.xticks(size=tick_size)\n",
    "plt.yticks(size=tick_size)\n",
    "plt.title('Bland-Altman plot', size=17)\n",
    "fig.savefig('H:/data/Results/rPACS/Bland_altman_rPACS.eps', bbox_inches='tight')"
   ]
  },
  {
   "cell_type": "code",
   "execution_count": 32,
   "metadata": {},
   "outputs": [],
   "source": [
    "#Clinical patient data \n",
    "hist_df_og = pd.read_csv('H:/data/master endometrial data/patients.csv')\n",
    "hist_df = hist_df[['Subj', 'TimeFollowUp', 'StatusFollowUp', 'HistGrade2G']]\n",
    "hist_df = hist_df.dropna()\n",
    "hist_df.rename(columns = {'Subj':'record_id'}, inplace = True)\n",
    "hist_df = hist_df.astype(str)"
   ]
  },
  {
   "cell_type": "code",
   "execution_count": 40,
   "metadata": {},
   "outputs": [],
   "source": [
    "#Average modeling results \n",
    "result_df = pd.merge(etm_df, hist_df, how='inner', on='record_id')\n",
    "result_Kt = ((result_df['average_ktrans'].astype(float)).to_numpy())*60\n",
    "result_kep = ((result_df['average_kep'].astype(float)).to_numpy())*60\n",
    "result_vp = ((result_df['average_vp'].astype(float)).to_numpy())\n",
    "result_ve = ((result_df['average_ve'].astype(float)).to_numpy())\n",
    "histgrade = ((result_df['HistGrade2G'].astype(float)).to_numpy())"
   ]
  },
  {
   "cell_type": "code",
   "execution_count": 35,
   "metadata": {},
   "outputs": [],
   "source": [
    "#Voxelwise modeling results \n",
    "result_Kt = ((result_df['voxel_ktrans'].astype(float)).to_numpy())*60\n",
    "result_kep = ((result_df['voxel_kep'].astype(float)).to_numpy())*60\n",
    "result_vp = ((result_df['voxel_vp'].astype(float)).to_numpy())\n",
    "result_ve = ((result_df['voxel_ve'].astype(float)).to_numpy())"
   ]
  },
  {
   "cell_type": "code",
   "execution_count": 36,
   "metadata": {},
   "outputs": [],
   "source": [
    "#Split Ktrans by median \n",
    "median = np.median(result_Kt)\n",
    "\n",
    "observed_kt = []\n",
    "for i in result_Kt: \n",
    "    if i < median: \n",
    "        observed_kt.append(1)\n",
    "    elif i > median: \n",
    "        observed_kt.append(0)"
   ]
  },
  {
   "cell_type": "code",
   "execution_count": 37,
   "metadata": {},
   "outputs": [
    {
     "name": "stdout",
     "output_type": "stream",
     "text": [
      "Power_divergenceResult(statistic=array([1.42857143, 2.        ]), pvalue=array([0.23199772, 0.15729921]))\n"
     ]
    }
   ],
   "source": [
    "expected_lower = observed_kt.count(0) #Denne verdien er 30\n",
    "observed_lower =  histgrade.size - np.count_nonzero(histgrade==1) #Denne verdien er 40\n",
    "\n",
    "expected_upper = observed_kt.count(1) #Denne verdien er 30\n",
    "observed_upper = np.count_nonzero(histgrade == 1) #Denne verdien er 20\n",
    "\n",
    "#Chi-square test\n",
    "chisquare_res = chisquare([[observed_lower,observed_upper], [expected_lower, expected_upper]]) # chisquare([[40,20], [30,30]])\n",
    "print(chisquare_res)"
   ]
  },
  {
   "cell_type": "code",
   "execution_count": 43,
   "metadata": {},
   "outputs": [
    {
     "name": "stderr",
     "output_type": "stream",
     "text": [
      "The PostScript backend does not support transparency; partially transparent artists will be rendered opaque.\n",
      "The PostScript backend does not support transparency; partially transparent artists will be rendered opaque.\n"
     ]
    },
    {
     "data": {
      "image/png": "[encoded data removed]",
      "text/plain": [
       "<Figure size 432x288 with 1 Axes>"
      ]
     },
     "metadata": {
      "needs_background": "light"
     },
     "output_type": "display_data"
    }
   ],
   "source": [
    "#Plot ROC curve \n",
    "fpr, tpr, _ = roc_curve(histgrade, result_Kt)\n",
    "auc_score = roc_auc_score(histgrade, result_Kt)\n",
    "plt.rcParams['font.family'] = 'Times New Roman'\n",
    "\n",
    "label_fontsize = 15\n",
    "title_fontsize = 17\n",
    "tick_size=13\n",
    "\n",
    "plt.plot(fpr, tpr, 'tab:blue', label = f'AUC = {auc_score}')\n",
    "plt.plot([0, 1], [0, 1], \"k--\")\n",
    "plt.legend(fontsize=label_fontsize)\n",
    "plt.xticks(size=tick_size)\n",
    "plt.yticks(size=tick_size)\n",
    "plt.ylabel('True Positive Rate', size=label_fontsize)\n",
    "plt.xlabel('False Positive Rate', size=label_fontsize)\n",
    "plt.title('$K^{trans}$ vs. histologic tumor grade', size=title_fontsize)\n",
    "plt.savefig('H:/data/Results/ROC_kt_histgrade.eps', bbox_inches = 'tight')\n",
    "plt.show()"
   ]
  },
  {
   "cell_type": "code",
   "execution_count": 44,
   "metadata": {},
   "outputs": [],
   "source": [
    "#Split by high-risk and low-risk tumor grade \n",
    "high_grade = result_df.loc[result_df['HistGrade2G'] == '1']\n",
    "low_grade = result_df.loc[result_df['HistGrade2G'] == '0']"
   ]
  },
  {
   "cell_type": "code",
   "execution_count": 47,
   "metadata": {},
   "outputs": [],
   "source": [
    "#High grade values\n",
    "avrg_kt_high = ((high_grade['average_ktrans'].astype(float)).to_numpy())*60\n",
    "\n",
    "print('Median Kt:', np.median(avrg_kt_high))\n",
    "print('Mean Kt:', np.mean(avrg_kt_high), 'Std:', np.std(avrg_kt_high))"
   ]
  },
  {
   "cell_type": "code",
   "execution_count": null,
   "metadata": {},
   "outputs": [],
   "source": []
  },
  {
   "cell_type": "code",
   "execution_count": null,
   "metadata": {},
   "outputs": [],
   "source": []
  }
 ],
 "metadata": {
  "kernelspec": {
   "display_name": "Python 3 (ipykernel)",
   "language": "python",
   "name": "python3"
  },
  "language_info": {
   "codemirror_mode": {
    "name": "ipython",
    "version": 3
   },
   "file_extension": ".py",
   "mimetype": "text/x-python",
   "name": "python",
   "nbconvert_exporter": "python",
   "pygments_lexer": "ipython3",
   "version": "3.9.7"
  }
 },
 "nbformat": 4,
 "nbformat_minor": 4
}
